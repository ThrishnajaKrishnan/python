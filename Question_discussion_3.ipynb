{
  "nbformat": 4,
  "nbformat_minor": 0,
  "metadata": {
    "colab": {
      "name": "Question discussion 3",
      "provenance": [],
      "authorship_tag": "ABX9TyPOtDNKwEkHgpepTyKTArbj",
      "include_colab_link": true
    },
    "kernelspec": {
      "name": "python3",
      "display_name": "Python 3"
    }
  },
  "cells": [
    {
      "cell_type": "markdown",
      "metadata": {
        "id": "view-in-github",
        "colab_type": "text"
      },
      "source": [
        "<a href=\"https://colab.research.google.com/github/ThrishnajaKrishnan/python/blob/master/Question_discussion_3.ipynb\" target=\"_parent\"><img src=\"https://colab.research.google.com/assets/colab-badge.svg\" alt=\"Open In Colab\"/></a>"
      ]
    },
    {
      "cell_type": "markdown",
      "metadata": {
        "id": "bw5nC5hM3yWi"
      },
      "source": [
        "1"
      ]
    },
    {
      "cell_type": "code",
      "metadata": {
        "colab": {
          "base_uri": "https://localhost:8080/"
        },
        "id": "KlNUDgFA3zMu",
        "outputId": "b64aa087-30b5-423f-d0b8-6824da70f360"
      },
      "source": [
        " \n",
        "n=int(input(\"Enter the number of elements: \"))\n",
        "a=[]\n",
        "for i in range(0,n):\n",
        "    element=int(input(\"Enter element: \"))\n",
        "    a.append(element)\n",
        "avg=sum(a)/n\n",
        "print(\"Average of elements in the list\",round(avg,2))"
      ],
      "execution_count": null,
      "outputs": [
        {
          "output_type": "stream",
          "text": [
            "Enter the number of elements: 7\n",
            "Enter element: 4\n",
            "Enter element: 9\n",
            "Enter element: 2\n",
            "Enter element: 5\n",
            "Enter element: 4\n",
            "Enter element: 8\n",
            "Enter element: 1\n",
            "Average of elements in the list 4.71\n"
          ],
          "name": "stdout"
        }
      ]
    },
    {
      "cell_type": "markdown",
      "metadata": {
        "id": "_ONZOz2S4X9H"
      },
      "source": [
        "2"
      ]
    },
    {
      "cell_type": "code",
      "metadata": {
        "colab": {
          "base_uri": "https://localhost:8080/"
        },
        "id": "XAoG7NsL4aNO",
        "outputId": "549c3b95-42d7-4347-ac84-59df6709a97f"
      },
      "source": [
        " \n",
        "my_list = ['g', 'm','p']\n",
        "n = 3\n",
        "new_list = ['{}{}'.format(x, y) for y in range(1, n+1) for x in my_list]\n",
        "print(new_list)"
      ],
      "execution_count": null,
      "outputs": [
        {
          "output_type": "stream",
          "text": [
            "['g1', 'm1', 'p1', 'g2', 'm2', 'p2', 'g3', 'm3', 'p3']\n"
          ],
          "name": "stdout"
        }
      ]
    },
    {
      "cell_type": "markdown",
      "metadata": {
        "id": "0GIZZfBH41oR"
      },
      "source": [
        "4"
      ]
    },
    {
      "cell_type": "code",
      "metadata": {
        "colab": {
          "base_uri": "https://localhost:8080/"
        },
        "id": "Y6Z75fEt42vm",
        "outputId": "670f7ab3-f708-4d3f-af05-1d8b9b329cf3"
      },
      "source": [
        " \n",
        "def Frequency(my_list): \n",
        " \n",
        "      \n",
        " \n",
        "   \n",
        " \n",
        "    freq = {} \n",
        " \n",
        "    for items in my_list: \n",
        " \n",
        "        freq[items] = my_list.count(items) \n",
        " \n",
        "      \n",
        " \n",
        "    for key, value in freq.items(): \n",
        " \n",
        "        print (\"% d : % d\"%(key, value)) \n",
        " \n",
        "  \n",
        " \n",
        " \n",
        "if __name__ == \"__main__\":  \n",
        " \n",
        "    my_list =[1, 1,3 , 3,4,6,5, 5, 3, 1, 4, 7, 4, 2, 2, 9,9,9 ,2] \n",
        " \n",
        "    Frequency(my_list)"
      ],
      "execution_count": null,
      "outputs": [
        {
          "output_type": "stream",
          "text": [
            " 1 :  3\n",
            " 3 :  3\n",
            " 4 :  3\n",
            " 6 :  1\n",
            " 5 :  2\n",
            " 7 :  1\n",
            " 2 :  3\n",
            " 9 :  3\n"
          ],
          "name": "stdout"
        }
      ]
    },
    {
      "cell_type": "markdown",
      "metadata": {
        "id": "4HpGF7ZR47uh"
      },
      "source": [
        " 3"
      ]
    },
    {
      "cell_type": "code",
      "metadata": {
        "colab": {
          "base_uri": "https://localhost:8080/"
        },
        "id": "DdFb2Pv65XQ6",
        "outputId": "fec3598e-bfad-42e1-ffab-0c627a5018b1"
      },
      "source": [
        " \n",
        "def Sublist(l, s):\n",
        "    subset = False\n",
        "    if s == []:\n",
        "        subset = True\n",
        "    elif s == l:\n",
        "        subset = True\n",
        "    elif len(s) > len(l):\n",
        "        subset = False\n",
        " \n",
        "    else:\n",
        "        for i in range(len(l)):\n",
        "            if l[i] == s[0]:\n",
        "                n = 1\n",
        "                while (n < len(s)) and (l[i+n] == s[n]):\n",
        "                    n += 1\n",
        "                \n",
        "                if n == len(s):\n",
        "                    subset = True\n",
        " \n",
        "    return subset\n",
        " \n",
        "a = [2,8,5,3,1]\n",
        "b = [3,1]\n",
        "c = [3,7]\n",
        "print(Sublist(a, b))\n",
        "print(Sublist(a, c))"
      ],
      "execution_count": null,
      "outputs": [
        {
          "output_type": "stream",
          "text": [
            "True\n",
            "False\n"
          ],
          "name": "stdout"
        }
      ]
    },
    {
      "cell_type": "markdown",
      "metadata": {
        "id": "TWNt9XDO6Sgu"
      },
      "source": [
        "5"
      ]
    },
    {
      "cell_type": "code",
      "metadata": {
        "colab": {
          "base_uri": "https://localhost:8080/"
        },
        "id": "7y-RHxPE7z9Q",
        "outputId": "a5304385-1173-4080-f93b-d838fd1ac53c"
      },
      "source": [
        " \n",
        "list1 = [44, 4, 7, 38, 80]\n",
        " \n",
        "list1.sort()\n",
        " \n",
        "print(\"Second largest element is:\", list1[-2])"
      ],
      "execution_count": null,
      "outputs": [
        {
          "output_type": "stream",
          "text": [
            "Second largest element is: 44\n"
          ],
          "name": "stdout"
        }
      ]
    },
    {
      "cell_type": "markdown",
      "metadata": {
        "id": "beYXbJpo8e51"
      },
      "source": [
        "7"
      ]
    },
    {
      "cell_type": "code",
      "metadata": {
        "colab": {
          "base_uri": "https://localhost:8080/"
        },
        "id": "_AYbkwM58hnl",
        "outputId": "8e81e0ba-7ffc-42ac-aa8c-307cee827b77"
      },
      "source": [
        "list1 = [44, 4, 7, 38, 80]\n",
        " \n",
        " \n",
        "list1.sort()\n",
        " \n",
        "print(\"Second smallest element is:\", list1[1])"
      ],
      "execution_count": null,
      "outputs": [
        {
          "output_type": "stream",
          "text": [
            "Second smallest element is: 7\n"
          ],
          "name": "stdout"
        }
      ]
    },
    {
      "cell_type": "markdown",
      "metadata": {
        "id": "2jrsC5lR8uDO"
      },
      "source": [
        "6"
      ]
    },
    {
      "cell_type": "code",
      "metadata": {
        "colab": {
          "base_uri": "https://localhost:8080/"
        },
        "id": "U2GqKFM28vCj",
        "outputId": "d4594ff9-eb07-4318-8582-518dcf7d64e7"
      },
      "source": [
        " \n",
        "def countelements(list1, l, r): \n",
        " \n",
        "    count = 0 \n",
        " \n",
        "    \n",
        " \n",
        "    for x in list1: \n",
        " \n",
        "        \n",
        " \n",
        "        if x>= l and x<= r: \n",
        " \n",
        "            count+= 1 \n",
        " \n",
        "    return count\n",
        " \n",
        "      \n",
        " \n",
        " \n",
        "list1 = [2,7,4,3,5,8,2,6] \n",
        " \n",
        "l = 4\n",
        " \n",
        "r = 8\n",
        " \n",
        "print(countelements(list1, l, r))"
      ],
      "execution_count": null,
      "outputs": [
        {
          "output_type": "stream",
          "text": [
            "5\n"
          ],
          "name": "stdout"
        }
      ]
    }
  ]
}