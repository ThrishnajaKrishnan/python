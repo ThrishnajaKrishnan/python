{
  "nbformat": 4,
  "nbformat_minor": 0,
  "metadata": {
    "colab": {
      "name": "Question discussion 2",
      "provenance": [],
      "authorship_tag": "ABX9TyNhZ+b8K4wXN4wMglniwdyQ",
      "include_colab_link": true
    },
    "kernelspec": {
      "name": "python3",
      "display_name": "Python 3"
    }
  },
  "cells": [
    {
      "cell_type": "markdown",
      "metadata": {
        "id": "view-in-github",
        "colab_type": "text"
      },
      "source": [
        "<a href=\"https://colab.research.google.com/github/ThrishnajaKrishnan/python/blob/master/Question_discussion_2.ipynb\" target=\"_parent\"><img src=\"https://colab.research.google.com/assets/colab-badge.svg\" alt=\"Open In Colab\"/></a>"
      ]
    },
    {
      "cell_type": "markdown",
      "metadata": {
        "id": "mSYA5fo6Hxan"
      },
      "source": [
        "Question 1"
      ]
    },
    {
      "cell_type": "code",
      "metadata": {
        "colab": {
          "base_uri": "https://localhost:8080/"
        },
        "id": "cFPa7SS_HzQi",
        "outputId": "2d29ea5d-a102-4887-d663-2a293f70a622"
      },
      "source": [
        " \n",
        " \n",
        "b=[]\n",
        "for i in range(0,4):\n",
        "    a=int(input(\"Enter 4 integers: \"))\n",
        "    b.append(a)\n",
        "sum1=0\n",
        "sum2=0\n",
        "avg=0\n",
        "count1=0\n",
        "count2=0\n",
        "for j in b:\n",
        "    if(j>0):\n",
        "      count1 = count1+1\n",
        "      sum1 = sum1+j\n",
        "      avg1 = sum1/count1\n",
        "    else:\n",
        "      count2 = count2+1\n",
        "      sum2 = sum2+j\n",
        "      avg2 = sum2/count2\n",
        "print(\"Sum of all positive numbers:\",sum1)\n",
        "print(\"Sum of all negative numbers:\",sum2)\n",
        "print(\"Average of positive numbers:\",avg1)\n",
        "print(\"Average of negative numbers:\",avg2)"
      ],
      "execution_count": 4,
      "outputs": [
        {
          "output_type": "stream",
          "text": [
            "Enter 4 integers: 2\n",
            "Enter 4 integers: -8\n",
            "Enter 4 integers: 7\n",
            "Enter 4 integers: -5\n",
            "Sum of all positive numbers: 9\n",
            "Sum of all negative numbers: -13\n",
            "Average of positive numbers: 4.5\n",
            "Average of negative numbers: -6.5\n"
          ],
          "name": "stdout"
        }
      ]
    },
    {
      "cell_type": "markdown",
      "metadata": {
        "id": "dxdZjWVWH99s"
      },
      "source": [
        "Question 2"
      ]
    },
    {
      "cell_type": "code",
      "metadata": {
        "colab": {
          "base_uri": "https://localhost:8080/"
        },
        "id": "ndhHby4qH_Zb",
        "outputId": "bf9fad2f-10af-486c-f66e-cbfac4b1c49c"
      },
      "source": [
        " \n",
        "mystr= input(\"input the string\")\n",
        "frequencies = {} \n",
        "  \n",
        "for char in mystr: \n",
        "   if char in frequencies: \n",
        "      frequencies[char] += 1\n",
        "   else: \n",
        "      frequencies[char] = 1\n",
        " \n",
        "print (\"frequency in '{}' is :\\n {}\".format(mystr, str(frequencies)))"
      ],
      "execution_count": 5,
      "outputs": [
        {
          "output_type": "stream",
          "text": [
            "input the string'India '\n",
            "frequency in ''India '' is :\n",
            " {\"'\": 2, 'I': 1, 'n': 1, 'd': 1, 'i': 1, 'a': 1, ' ': 1}\n"
          ],
          "name": "stdout"
        }
      ]
    },
    {
      "cell_type": "markdown",
      "metadata": {
        "id": "zo3E2DeIIQUh"
      },
      "source": [
        "Question 3"
      ]
    },
    {
      "cell_type": "code",
      "metadata": {
        "colab": {
          "base_uri": "https://localhost:8080/"
        },
        "id": "GAerTGjcIVfn",
        "outputId": "1dbbd48c-0f93-4ff8-b85b-fbe993f72864"
      },
      "source": [
        " \n",
        "unsorted_list = [8,5,7,4]\n",
        " sorted_list=[]\n",
        "while unsorted_list:\n",
        "     minimum = unsorted_list[0]\n",
        "     for item in unsorted_list:\n",
        "           if item < minimum:\n",
        "              minimum = item\n",
        "     sorted_list.append(minimum)\n",
        "     unsorted_list.remove(minimum)\n",
        " \n",
        "print(sorted_list)"
      ],
      "execution_count": 7,
      "outputs": [
        {
          "output_type": "stream",
          "text": [
            "[4, 5, 7, 8]\n"
          ],
          "name": "stdout"
        }
      ]
    },
    {
      "cell_type": "markdown",
      "metadata": {
        "id": "WHeZZWF_IfVT"
      },
      "source": [
        "Question 5"
      ]
    },
    {
      "cell_type": "code",
      "metadata": {
        "colab": {
          "base_uri": "https://localhost:8080/"
        },
        "id": "y9acTvccIhpu",
        "outputId": "6893e618-3352-4237-bea5-169338cbee89"
      },
      "source": [
        " \n",
        "import math\n",
        "def fact(k):\n",
        "   if k<=1:\n",
        "     return 1\n",
        "   else:\n",
        "     return k* fact(k-1)\n",
        " \n",
        "step=int(input(\"enter the no of terms\"))\n",
        "x=int(input(\"enter the value of x\"))\n",
        "sum=0\n",
        "for i in range(step+1):\n",
        "   sum+=(math.pow(-1,i)*math.pow(x,2*i+1))/fact(2*i+1)\n",
        "print(\"The result of sin(\",step,\")\",sum)"
      ],
      "execution_count": 8,
      "outputs": [
        {
          "output_type": "stream",
          "text": [
            "enter the no of terms6\n",
            "enter the value of x8\n",
            "The result of sin( 6 ) 22.58937835826727\n"
          ],
          "name": "stdout"
        }
      ]
    },
    {
      "cell_type": "markdown",
      "metadata": {
        "id": "fOeqqvZzIrI1"
      },
      "source": [
        "Question 4"
      ]
    },
    {
      "cell_type": "code",
      "metadata": {
        "colab": {
          "base_uri": "https://localhost:8080/"
        },
        "id": "bl4-yYudIs3O",
        "outputId": "b5b1b123-d910-4096-ca84-0e554963aca9"
      },
      "source": [
        " \n",
        "def Palindrome(s):\n",
        " \n",
        "    return s == s[::-1]\n",
        " \n",
        "s=input(\"enter the string (case sensitive) :\")\n",
        " \n",
        "ans = Palindrome(s)\n",
        " \n",
        " \n",
        "if ans:\n",
        " \n",
        "    print(\"Yes, it is palindrome\")\n",
        " \n",
        "else:\n",
        " \n",
        "    print(\"No, it is not palindrome\")"
      ],
      "execution_count": 9,
      "outputs": [
        {
          "output_type": "stream",
          "text": [
            "enter the string (case sensitive) :'India is my country'\n",
            "No, it is not palindrome\n"
          ],
          "name": "stdout"
        }
      ]
    },
    {
      "cell_type": "markdown",
      "metadata": {
        "id": "oZoJaMRTJICV"
      },
      "source": [
        "Question 6"
      ]
    },
    {
      "cell_type": "code",
      "metadata": {
        "colab": {
          "base_uri": "https://localhost:8080/"
        },
        "id": "HGh4wqG0JKB3",
        "outputId": "5450142e-f86c-4975-b226-155676862a91"
      },
      "source": [
        " \n",
        "password = input(\"Enter the password : \")\n",
        "upper = False\n",
        "number = False\n",
        "lower = False\n",
        "special = False\n",
        "num = ['0','1','2','3','4','5','6','7','8','9']\n",
        " \n",
        "if len(password) < 6:\n",
        "  print(\"Password is too short, minimum length should be 6.\")\n",
        "else:\n",
        "  for i in password:\n",
        "    if i.isupper()==True:\n",
        "      upper = True\n",
        "    elif i.islower()==True:\n",
        "      lower = True\n",
        "    elif i in num:\n",
        "      number = True\n",
        "    elif i==\"$\" or i==\"#\" or i==\"@\":\n",
        "      special = True\n",
        "if upper==True and lower==True and number==True and special== True:\n",
        "  print(\"Password is accepted!\")\n",
        "else:\n",
        "  print(\"Password not accepted!\")"
      ],
      "execution_count": 10,
      "outputs": [
        {
          "output_type": "stream",
          "text": [
            "Enter the password : 158904\n",
            "Password not accepted!\n"
          ],
          "name": "stdout"
        }
      ]
    }
  ]
}